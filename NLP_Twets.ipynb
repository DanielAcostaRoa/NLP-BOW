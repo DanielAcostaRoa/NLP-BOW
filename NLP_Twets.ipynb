{
  "nbformat": 4,
  "nbformat_minor": 0,
  "metadata": {
    "colab": {
      "name": "Copia de NLP_Twets",
      "provenance": [],
      "authorship_tag": "ABX9TyOV10E6vdKDvrmS1z1jkAOq",
      "include_colab_link": true
    },
    "kernelspec": {
      "name": "python3",
      "display_name": "Python 3"
    }
  },
  "cells": [
    {
      "cell_type": "markdown",
      "metadata": {
        "id": "view-in-github",
        "colab_type": "text"
      },
      "source": [
        "<a href=\"https://colab.research.google.com/github/DanielAcostaRoa/NLP-BOW/blob/master/NLP_Twets.ipynb\" target=\"_parent\"><img src=\"https://colab.research.google.com/assets/colab-badge.svg\" alt=\"Open In Colab\"/></a>"
      ]
    },
    {
      "cell_type": "code",
      "metadata": {
        "id": "p1rwQiLcnTFV"
      },
      "source": [
        "import matplotlib.pyplot as plt\n",
        "import pandas.util.testing as tm\n",
        "from collections import Counter\n",
        "import numpy as np\n",
        "import seaborn as sns\n",
        "import nltk\n",
        "import os\n",
        "import re\n",
        "from nltk.corpus.reader import CategorizedPlaintextCorpusReader as CPCR\n",
        "from nltk.tokenize import TweetTokenizer\n",
        "import csv\n",
        "import argparse\n",
        "from sklearn.preprocessing import LabelEncoder\n",
        "from sklearn.metrics import accuracy_score, confusion_matrix, f1_score, precision_recall_fscore_support, roc_auc_score\n",
        "from sklearn import metrics, preprocessing\n",
        "import numpy as np\n",
        "from sklearn import svm, datasets\n",
        "from sklearn.linear_model import LogisticRegression\n",
        "from sklearn.model_selection import GridSearchCV"
      ],
      "execution_count": null,
      "outputs": []
    },
    {
      "cell_type": "code",
      "metadata": {
        "id": "ha6k5NRypZ8X"
      },
      "source": [
        "def get_texts_from_file(path_corpus, path_truth):\n",
        "    tr_txt = []\n",
        "    tr_y = []\n",
        "    with open(path_corpus, \"r\") as f_corpus, open(path_truth, \"r\") as f_truth:\n",
        "        for twitt in f_corpus:\n",
        "            tr_txt += [twitt.lower()]\n",
        "        for label in f_truth:\n",
        "            tr_y += [label]        \n",
        "    return tr_txt, tr_y"
      ],
      "execution_count": null,
      "outputs": []
    },
    {
      "cell_type": "code",
      "metadata": {
        "id": "RUN1bwYSp3s9"
      },
      "source": [
        "tuit_tr, label_tuit_tr = get_texts_from_file(\"./mex20_train.txt\", \"./mex20_train_labels.txt\")\n",
        "tuit_val, label_tuit_val = get_texts_from_file(\"./mex20_val.txt\", \"./mex20_val_labels.txt\")\n",
        "\n",
        "label_tuit_tr = list(map(int, label_tuit_tr))\n",
        "label_tuit_val = list(map(int, label_tuit_val))"
      ],
      "execution_count": null,
      "outputs": []
    },
    {
      "cell_type": "code",
      "metadata": {
        "id": "3fsWXHyaqOBr",
        "outputId": "c4fc0e96-f721-4f70-afe9-95d7b0dbc2eb",
        "colab": {
          "base_uri": "https://localhost:8080/",
          "height": 296
        }
      },
      "source": [
        "print(Counter(label_tuit_tr))\n",
        "plt.hist(label_tuit_tr, bins=len(set(label_tuit_tr)))\n",
        "plt.ylabel('Tuits');\n",
        "plt.xlabel('Clases');"
      ],
      "execution_count": null,
      "outputs": [
        {
          "output_type": "stream",
          "text": [
            "Counter({0: 3759, 1: 1519})\n"
          ],
          "name": "stdout"
        },
        {
          "output_type": "display_data",
          "data": {
            "image/png": "[encoded data removed]",
            "text/plain": [
              "<Figure size 432x288 with 1 Axes>"
            ]
          },
          "metadata": {
            "tags": [],
            "needs_background": "light"
          }
        }
      ]
    },
    {
      "cell_type": "code",
      "metadata": {
        "id": "Ux7sx3dkqs02"
      },
      "source": [
        "tokens = []\n",
        "tt = []\n",
        "tk2 = TweetTokenizer(reduce_len=True)\n",
        "for i in tuit_tr:\n",
        "  tok = tk2.tokenize(i)\n",
        "  tt.append(tok)\n",
        "  for j in tok:\n",
        "    tokens.append(j)"
      ],
      "execution_count": null,
      "outputs": []
    },
    {
      "cell_type": "code",
      "metadata": {
        "id": "OWZ1_Wmdrc0B"
      },
      "source": [
        "fdist = nltk.FreqDist(tokens)"
      ],
      "execution_count": null,
      "outputs": []
    },
    {
      "cell_type": "code",
      "metadata": {
        "id": "LlsRCBLfsE4c"
      },
      "source": [
        "def sortFreqDict(freqdict):\n",
        "    aux = [(freqdict[key], key) for key in freqdict]\n",
        "    aux.sort()\n",
        "    aux.reverse()\n",
        "    return aux"
      ],
      "execution_count": null,
      "outputs": []
    },
    {
      "cell_type": "code",
      "metadata": {
        "id": "aV0byoigsOeZ"
      },
      "source": [
        "V = sortFreqDict(fdist)\n",
        "V = V[:10000]"
      ],
      "execution_count": null,
      "outputs": []
    },
    {
      "cell_type": "code",
      "metadata": {
        "id": "2lTFgZoDsQ5o"
      },
      "source": [
        "dict_indices = dict()\n",
        "cont = 0\n",
        "for weight, word in V:\n",
        "    dict_indices[word] = cont\n",
        "    cont += 1   "
      ],
      "execution_count": null,
      "outputs": []
    },
    {
      "cell_type": "code",
      "metadata": {
        "id": "NaqvAcA5sR2j"
      },
      "source": [
        "def build_bow_tfidf(tr_txt, V, dict_indices):\n",
        "    tf = np.zeros((len(tr_txt),len(V)), dtype=float)\n",
        "    cont_doc = 0\n",
        "    for tr in tr_txt:\n",
        "        fdist_doc = nltk.FreqDist(tk2.tokenize(tr))\n",
        "        for word in fdist_doc:\n",
        "            if word in dict_indices:\n",
        "                tf[cont_doc, dict_indices[word]] = fdist_doc[word]\n",
        "        cont_doc += 1\n",
        "    idf = np.ones((len(V)))\n",
        "    for weight, word in V:\n",
        "      for tr in tr_txt:\n",
        "        if word in tr:\n",
        "          idf[dict_indices[word]] +=1\n",
        "    idf = np.log2( len(tr_txt)/idf ) + 1\n",
        "    for i in range(len(tr_txt)):\n",
        "      tf[i] = tf[i]*idf\n",
        "      norma = np.linalg.norm(tf[i])\n",
        "      if norma != 0:\n",
        "        tf[i] = tf[i] / norma\n",
        "    return tf"
      ],
      "execution_count": null,
      "outputs": []
    },
    {
      "cell_type": "code",
      "metadata": {
        "id": "OkaF6fvwyXbt"
      },
      "source": [
        "def build_bow_bin(tr_txt, V, dict_indices):\n",
        "    BOW = np.zeros((len(tr_txt),len(V)), dtype=float)\n",
        "    cont_doc = 0\n",
        "    for tr in tr_txt:\n",
        "        fdist_doc = nltk.FreqDist(tk2.tokenize(tr))\n",
        "        for word in fdist_doc:\n",
        "            if word in dict_indices:\n",
        "                BOW[cont_doc, dict_indices[word]] = 1\n",
        "        cont_doc += 1\n",
        "    return BOW"
      ],
      "execution_count": null,
      "outputs": []
    },
    {
      "cell_type": "code",
      "metadata": {
        "id": "p7svn_J8sVvj"
      },
      "source": [
        "BOW_tfidf_tr = build_bow_tfidf(tuit_tr, V, dict_indices)\n",
        "BOW_tfidf_val = build_bow_tfidf(tuit_val, V, dict_indices)"
      ],
      "execution_count": null,
      "outputs": []
    },
    {
      "cell_type": "code",
      "metadata": {
        "id": "kU9dXV3Csco-"
      },
      "source": [
        "u, s, v = np.linalg.svd(BOW_tfidf_tr.T, full_matrices=True)"
      ],
      "execution_count": null,
      "outputs": []
    },
    {
      "cell_type": "code",
      "metadata": {
        "id": "AJFgzWx2o5-9"
      },
      "source": [
        "r = 1000\n",
        "s_inv = np.diag(1.0/s[0:r])\n",
        "BOW_svd_tr = np.dot(np.dot(s_inv,u[:,0:r].T),BOW_tfidf_tr.T).T\n",
        "BOW_svd_val = np.dot(np.dot(s_inv,u[:,0:r].T),BOW_tfidf_val.T).T"
      ],
      "execution_count": null,
      "outputs": []
    },
    {
      "cell_type": "code",
      "metadata": {
        "id": "u6TjATDSybzG",
        "outputId": "5c471282-c50c-434b-c717-5938edfdca48",
        "colab": {
          "base_uri": "https://localhost:8080/",
          "height": 71
        }
      },
      "source": [
        "parameters = {'C': [.05, .12, .25, .5, 1, 2, 4]}\n",
        "svr = svm.LinearSVC(class_weight='balanced')\n",
        "grid = GridSearchCV(estimator=svr, param_grid=parameters, n_jobs=8, scoring=\"f1_macro\", cv=5)\n",
        "grid.fit(BOW_svd_tr, label_tuit_tr) \n",
        "y_pred = grid.predict(BOW_svd_val)\n",
        "p, r, f, _ = precision_recall_fscore_support(label_tuit_val, y_pred, average='macro', pos_label=None)"
      ],
      "execution_count": null,
      "outputs": [
        {
          "output_type": "stream",
          "text": [
            "/usr/local/lib/python3.6/dist-packages/joblib/externals/loky/process_executor.py:706: UserWarning: A worker stopped while some jobs were given to the executor. This can be caused by a too short worker timeout or by a memory leak.\n",
            "  \"timeout or by a memory leak.\", UserWarning\n"
          ],
          "name": "stderr"
        }
      ]
    },
    {
      "cell_type": "code",
      "metadata": {
        "id": "A6xWRGGEsf-v",
        "outputId": "566e68e2-e78d-425c-d03b-ced9bb8af156",
        "colab": {
          "base_uri": "https://localhost:8080/",
          "height": 204
        }
      },
      "source": [
        "print(confusion_matrix(label_tuit_val, y_pred))\n",
        "print(metrics.classification_report(label_tuit_val, y_pred))"
      ],
      "execution_count": null,
      "outputs": [
        {
          "output_type": "stream",
          "text": [
            "[[364  54]\n",
            " [ 41 128]]\n",
            "              precision    recall  f1-score   support\n",
            "\n",
            "           0       0.90      0.87      0.88       418\n",
            "           1       0.70      0.76      0.73       169\n",
            "\n",
            "    accuracy                           0.84       587\n",
            "   macro avg       0.80      0.81      0.81       587\n",
            "weighted avg       0.84      0.84      0.84       587\n",
            "\n"
          ],
          "name": "stdout"
        }
      ]
    },
    {
      "cell_type": "code",
      "metadata": {
        "id": "EynEQ8gex0Tx"
      },
      "source": [
        "def informacion_mutua(textos, labels, V, dict_indices):\n",
        "  np_c0 = Counter(labels)[0]+1  #numero de documentos de clase 0\n",
        "  np_c1 = Counter(labels)[1]+1 #numero de documentos de clase 1\n",
        "  np_d = np.ones((len(V))) + 1      #numero de documentos donde aparece la palabra i\n",
        "  np_d_c0 = np.ones((len(V)))    #numero de documentos de la clase 0 donde aparece la palabra i\n",
        "  np_d_c1 = np.ones((len(V)))    #numero de documentos de la clase 1 donde aparece la palabra i\n",
        "  ii=0\n",
        "  tam=len(labels)+2\n",
        "  for weight, word in V: #Para cada palabra en BoW\n",
        "    cont=0\n",
        "    for tuit in textos:  #Para cada tuit\n",
        "      if word in tuit:   #si la palabra aparece en el tuit\n",
        "        if labels[cont] == 0: #contamos si es clase 0\n",
        "          np_d_c0[ii]+=1\n",
        "        else:                 #contamos si es clase 1\n",
        "          np_d_c1[ii]+=1\n",
        "        np_d[ii]+=1 #contamos\n",
        "      cont+=1\n",
        "    ii+=1\n",
        "  np_d_c0 = np_d_c0/tam #calculamos probabilidades\n",
        "  np_d_c1 = np_d_c1/tam\n",
        "  np_d = np_d/tam\n",
        "  np_c0=np_c0/tam\n",
        "  np_c1=np_c1/tam\n",
        "  info0 = np.log2( np_d_c0 / (np_c0* np_d ) ) #calculamos informacion\n",
        "  info1 = np.log2( np_d_c1 / (np_c1* np_d ) )\n",
        "  infoT = np_c0*info0 + np_c1*info1\n",
        "  return infoT, info0, info1"
      ],
      "execution_count": null,
      "outputs": []
    },
    {
      "cell_type": "code",
      "metadata": {
        "id": "2BemFv3uyZCa"
      },
      "source": [
        "info, info0, info1= informacion_mutua(tt,label_tuit_tr ,V, dict_indices)"
      ],
      "execution_count": null,
      "outputs": []
    },
    {
      "cell_type": "code",
      "metadata": {
        "id": "INbjYsGXymNe"
      },
      "source": [
        "arg0 = np.flip(np.argsort(info0))\n",
        "arg1 = np.flip(np.argsort(info1))"
      ],
      "execution_count": null,
      "outputs": []
    },
    {
      "cell_type": "code",
      "metadata": {
        "id": "-S_Si-Aszzsp"
      },
      "source": [
        "V0 = []\n",
        "V1 = []\n",
        "for i in range(len(V)):\n",
        "  V0.append(V[arg0[i]][1])\n",
        "  V1.append(V[arg1[i]][1])\n",
        "vv = list(set(V0[0:100]+V1[0:100]))\n",
        "V_1=[]\n",
        "for j, i in V:\n",
        "  if i in vv:\n",
        "    V_1.append((j,i))\n",
        "dict_indices_1 = dict()\n",
        "cont = 0\n",
        "for weight, word in V_1:\n",
        "    dict_indices_1[word] = cont\n",
        "    cont += 1   "
      ],
      "execution_count": null,
      "outputs": []
    },
    {
      "cell_type": "code",
      "metadata": {
        "id": "T_0HR7BF9me7"
      },
      "source": [
        "BOW_bin1_tr = build_bow_bin(tuit_tr, V_1, dict_indices_1)\n",
        "BOW_bin1_val = build_bow_bin(tuit_val, V_1, dict_indices_1)"
      ],
      "execution_count": null,
      "outputs": []
    },
    {
      "cell_type": "code",
      "metadata": {
        "id": "RaOV8ntKCoUO"
      },
      "source": [
        "u1, s1, v1 = np.linalg.svd(BOW_bin1_tr.T, full_matrices=True)"
      ],
      "execution_count": null,
      "outputs": []
    },
    {
      "cell_type": "code",
      "metadata": {
        "id": "LqKeBr_cC59K"
      },
      "source": [
        "r = 10\n",
        "s_inv = np.diag(1.0/s1[0:r])\n",
        "BOW_svdB_tr = np.dot(np.dot(s_inv,u1[:,0:r].T),BOW_bin1_tr.T).T\n",
        "BOW_svdB_val = np.dot(np.dot(s_inv,u1[:,0:r].T),BOW_bin1_val.T).T"
      ],
      "execution_count": null,
      "outputs": []
    },
    {
      "cell_type": "code",
      "metadata": {
        "id": "g_HKtY3U9nBN"
      },
      "source": [
        "parameters = {'C': [.05, .12, .25, .5, 1, 2, 4]}\n",
        "svr = svm.LinearSVC(class_weight='balanced')\n",
        "grid = GridSearchCV(estimator=svr, param_grid=parameters, n_jobs=8, scoring=\"f1_macro\", cv=5)\n",
        "grid.fit(BOW_svdB_tr, label_tuit_tr) \n",
        "y_pred = grid.predict(BOW_svdB_val)\n",
        "p, r, f, _ = precision_recall_fscore_support(label_tuit_val, y_pred, average='macro', pos_label=None)"
      ],
      "execution_count": null,
      "outputs": []
    },
    {
      "cell_type": "code",
      "metadata": {
        "id": "kjfXQwojQp8Q",
        "outputId": "526fbf4d-ce69-49b4-fd0b-2fd7b1356139",
        "colab": {
          "base_uri": "https://localhost:8080/",
          "height": 204
        }
      },
      "source": [
        "print(confusion_matrix(label_tuit_val, y_pred))\n",
        "print(metrics.classification_report(label_tuit_val, y_pred))"
      ],
      "execution_count": null,
      "outputs": [
        {
          "output_type": "stream",
          "text": [
            "[[403  15]\n",
            " [118  51]]\n",
            "              precision    recall  f1-score   support\n",
            "\n",
            "           0       0.77      0.96      0.86       418\n",
            "           1       0.77      0.30      0.43       169\n",
            "\n",
            "    accuracy                           0.77       587\n",
            "   macro avg       0.77      0.63      0.65       587\n",
            "weighted avg       0.77      0.77      0.74       587\n",
            "\n"
          ],
          "name": "stdout"
        }
      ]
    },
    {
      "cell_type": "code",
      "metadata": {
        "id": "wWOZsrZWOxWf"
      },
      "source": [
        "V0 = []\n",
        "V1 = []\n",
        "for i in range(len(V)):\n",
        "  V0.append(V[arg0[i]][1])\n",
        "  V1.append(V[arg1[i]][1])\n",
        "vv = list(set(V1[0:50]))\n",
        "V_0=[]\n",
        "for j, i in V:\n",
        "  if i in vv:\n",
        "    V_0.append((j,i))\n",
        "dict_indices_0 = dict()\n",
        "cont = 0\n",
        "for weight, word in V_2:\n",
        "    dict_indices_0[word] = cont\n",
        "    cont += 1   "
      ],
      "execution_count": null,
      "outputs": []
    },
    {
      "cell_type": "code",
      "metadata": {
        "id": "1RnCsqzOPXjr"
      },
      "source": [
        "BOW_bin0_tr = build_bow_bin(tuit_tr, V_0, dict_indices_0)\n",
        "BOW_bin0_val = build_bow_bin(tuit_val, V_0, dict_indices_0)"
      ],
      "execution_count": null,
      "outputs": []
    },
    {
      "cell_type": "code",
      "metadata": {
        "id": "hDFNhVcsRq2i"
      },
      "source": [
        "parameters = {'C': [.05, .12, .25, .5, 1, 2, 4]}\n",
        "svr = svm.LinearSVC(class_weight='balanced')\n",
        "grid = GridSearchCV(estimator=svr, param_grid=parameters, n_jobs=8, scoring=\"f1_macro\", cv=5)\n",
        "grid.fit(BOW_bin0_tr, label_tuit_tr) \n",
        "y_pred = grid.predict(BOW_bin0_val)\n",
        "p, r, f, _ = precision_recall_fscore_support(label_tuit_val, y_pred, average='macro', pos_label=None)"
      ],
      "execution_count": null,
      "outputs": []
    },
    {
      "cell_type": "code",
      "metadata": {
        "id": "XLg3o51jSflJ",
        "outputId": "92559a37-5fe9-4721-9657-8a37a3c6bd15",
        "colab": {
          "base_uri": "https://localhost:8080/",
          "height": 204
        }
      },
      "source": [
        "print(confusion_matrix(label_tuit_val, y_pred))\n",
        "print(metrics.classification_report(label_tuit_val, y_pred))"
      ],
      "execution_count": null,
      "outputs": [
        {
          "output_type": "stream",
          "text": [
            "[[405  13]\n",
            " [114  55]]\n",
            "              precision    recall  f1-score   support\n",
            "\n",
            "           0       0.78      0.97      0.86       418\n",
            "           1       0.81      0.33      0.46       169\n",
            "\n",
            "    accuracy                           0.78       587\n",
            "   macro avg       0.79      0.65      0.66       587\n",
            "weighted avg       0.79      0.78      0.75       587\n",
            "\n"
          ],
          "name": "stdout"
        }
      ]
    },
    {
      "cell_type": "code",
      "metadata": {
        "id": "aPt3O21QSxCu"
      },
      "source": [
        ""
      ],
      "execution_count": null,
      "outputs": []
    }
  ]
}